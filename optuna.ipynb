{
 "cells": [
  {
   "cell_type": "code",
   "execution_count": 1,
   "metadata": {},
   "outputs": [
    {
     "name": "stderr",
     "output_type": "stream",
     "text": [
      "c:\\Users\\alefi\\anaconda3\\envs\\CasADi\\Lib\\site-packages\\tqdm\\auto.py:21: TqdmWarning: IProgress not found. Please update jupyter and ipywidgets. See https://ipywidgets.readthedocs.io/en/stable/user_install.html\n",
      "  from .autonotebook import tqdm as notebook_tqdm\n"
     ]
    }
   ],
   "source": [
    "import numpy as np\n",
    "import sympy as sp\n",
    "import pandas as pd\n",
    "import optuna\n",
    "import matplotlib.pyplot as plt\n",
    "\n",
    "from EKF import ExtendedKalmanFilter as EKF"
   ]
  },
  {
   "cell_type": "markdown",
   "metadata": {},
   "source": [
    "# Symbols definition"
   ]
  },
  {
   "cell_type": "code",
   "execution_count": 2,
   "metadata": {},
   "outputs": [],
   "source": [
    "#States\n",
    "Tz, Tw, Tt, beta, Uwall = sp.symbols('Tz Tw Tt beta Uwall')\n",
    "\n",
    "#Inputs\n",
    "Cf, Tz_ref, Te = sp.symbols('Cf Tz_ref Te')\n",
    "\n",
    "#Parameters\n",
    "Cz, Uwin, alpha, Cwall, mw, cw, Pmax, sigma, COP, T_shift, Np = sp.symbols('Cz Uwin alpha Cwall mw cw Pmax sigma COP T_shift Np')"
   ]
  },
  {
   "cell_type": "markdown",
   "metadata": {},
   "source": [
    "# Equations definition"
   ]
  },
  {
   "cell_type": "code",
   "execution_count": 3,
   "metadata": {},
   "outputs": [],
   "source": [
    "# Define the state equations, output equations, state symbols, input symbols, and parameters\n",
    "\n",
    "beta_nl = beta/(1+sp.exp(-sigma*(Tz_ref-Tz-T_shift)))\n",
    "\n",
    "state_equations = [Tz +1/Cz*(Uwall*(Tw-Tz)+Uwin*(Te-Tz)+alpha*Np+beta_nl*(Tt-Tz)),\n",
    "                    Tw+1/Cwall*(Uwall*(Te-Tw)+Uwall*(Tz-Tw)),\n",
    "                    Tt+1/(mw*cw)*(Pmax*COP*Cf + beta_nl*(Tz-Tt)),\n",
    "                    beta,\n",
    "                    Uwall\n",
    "                    ]\n",
    "\n",
    "output_equation = [Tz,\n",
    "                   Tt\n",
    "                   ]\n",
    "\n",
    "state_symbols = [Tz, Tw, Tt, beta, Uwall]\n",
    "input_symbols = [Cf, Tz_ref, Te]\n",
    "\n",
    "params_dict = { \"Cz\" : 6.2608e8,\n",
    "                \"Uwin\" : 1.1362e5,\n",
    "                \"alpha\" : 3.4024e3,\n",
    "                \"Cwall\" : 8.1597e9,\n",
    "                \"mw\" : 9.788e3,\n",
    "                \"cw\" : 4186,\n",
    "                \"Pmax\" : 8.58e6,\n",
    "                \"sigma\" : 2.2,\n",
    "                \"COP\" : 5.4,\n",
    "                \"T_shift\" : 0,\n",
    "                \"Np\" : 0\n",
    "                }  \n",
    "\n",
    "P_0 = np.diag([0.1, 0.1, 0.1, 1e5, 1e5])  # Initial state covariance estimate\n",
    "\n",
    "# Create an instance of the ExtendedKalmanFilter class\n",
    "ekf = EKF(state_equations, output_equation, state_symbols, input_symbols, params_dict, P_0)"
   ]
  },
  {
   "cell_type": "markdown",
   "metadata": {},
   "source": [
    "# Reading data"
   ]
  },
  {
   "cell_type": "code",
   "execution_count": 4,
   "metadata": {},
   "outputs": [],
   "source": [
    "df = pd.read_csv('Data\\Data_expl_nom.csv')\n",
    "\n",
    "Cf = df['Cf_0']\n",
    "Tz_ref_anti = df['Tz_ref_anti']\n",
    "Te = df['Te']\n",
    "Np = df['Np']\n",
    "Tz_mean = df['Tz_mean']\n",
    "Tt_mean = df['Tt_mean']\n",
    "Twall_mean = df['Twall_mean']\n",
    "beta_true = df['beta'][0]\n",
    "Uwall_true = df['Uwall'][0]"
   ]
  },
  {
   "cell_type": "markdown",
   "metadata": {},
   "source": [
    "# Optuna optimization\n"
   ]
  },
  {
   "cell_type": "code",
   "execution_count": 5,
   "metadata": {},
   "outputs": [],
   "source": [
    "def objective(trial):\n",
    "    # Define the search spaces for the three parameters\n",
    "    q1 = trial.suggest_float('q1', 1e-2, 1e3, log=True)\n",
    "    q2 = trial.suggest_float('q2', 1e-2, 1e2, log=True)\n",
    "    q3 = trial.suggest_float('q3', 1e-2, 1e3, log=True)\n",
    "    q4 = trial.suggest_float('q4', 1e8, 1e9, log=True)\n",
    "    q5 = trial.suggest_float('q5', 1e9, 1e12, log=True)\n",
    "\n",
    "    # Create the Q_k matrix with the suggested parameters\n",
    "    Q_k = np.diag([q1, q2, q3, q4, q5])\n",
    "    R_k = np.diag([0.1, 0.1])\n",
    "\n",
    "    ekf.set_QR(Q_k, R_k)\n",
    "\n",
    "    # Initial guesses\n",
    "    beta_init = 950000\n",
    "    Uwall_init = 5.5955e5\n",
    "\n",
    "    # Initial conditions\n",
    "    y_k = np.array([Tz_mean, Tt_mean]).T\n",
    "    u_k = np.array([Cf, Tz_ref_anti, Te]).T\n",
    "    x_k_minus_1 = np.array([Tz_mean[0], Twall_mean[0], Tt_mean[0], beta_init, Uwall_init])\n",
    "\n",
    "    # Initializing errors\n",
    "    beta_err = 0.0\n",
    "    Uwall_err = 0.0\n",
    "\n",
    "    time_steps = 500\n",
    "\n",
    "    # Run the Extended Kalman Filter\n",
    "    x_k_tot = np.empty((time_steps, len(state_symbols)))\n",
    "\n",
    "    for k in range(time_steps):\n",
    "\n",
    "        x_k = ekf.ekf(x_k_minus_1, [u_k[k]], y_k[k])\n",
    "\n",
    "        x_k_tot[k] = x_k\n",
    "        \n",
    "        x_k_minus_1 = x_k\n",
    "\n",
    "        beta_err += (float(x_k[3]) - beta_true)**2\n",
    "        Uwall_err += (float(x_k[4]) - Uwall_true)**2\n",
    "        \n",
    "    mse = np.linalg.norm(np.array([np.sqrt(beta_err), np.sqrt(Uwall_err)]))\n",
    "\n",
    "    return mse"
   ]
  },
  {
   "cell_type": "markdown",
   "metadata": {},
   "source": [
    "# Optuna main"
   ]
  },
  {
   "cell_type": "code",
   "execution_count": 6,
   "metadata": {},
   "outputs": [
    {
     "name": "stderr",
     "output_type": "stream",
     "text": [
      "[I 2024-05-17 15:20:02,052] A new study created in memory with name: no-name-f2e6d43c-9236-4046-aeb9-bc6a24806a38\n",
      "[I 2024-05-17 15:20:53,548] Trial 0 finished with value: 9745431.447072778 and parameters: {'q1': 7.015625144477222, 'q2': 67.4376374990372, 'q3': 0.7367247622866347, 'q4': 108337983.85224748, 'q5': 1395367824.999297}. Best is trial 0 with value: 9745431.447072778.\n",
      "[I 2024-05-17 15:21:47,849] Trial 1 finished with value: 9959676.942166546 and parameters: {'q1': 0.13750849907095278, 'q2': 0.19610444748590922, 'q3': 1.8152844558285397, 'q4': 678427690.6235548, 'q5': 616037455048.0607}. Best is trial 0 with value: 9745431.447072778.\n",
      "[I 2024-05-17 15:22:43,081] Trial 2 finished with value: 7388672.133869476 and parameters: {'q1': 0.010470127959734342, 'q2': 0.9391975061601794, 'q3': 314.18458153758917, 'q4': 276443579.9087478, 'q5': 757193805382.4327}. Best is trial 2 with value: 7388672.133869476.\n",
      "[I 2024-05-17 15:23:44,621] Trial 3 finished with value: 18870220.98924689 and parameters: {'q1': 531.6421373589388, 'q2': 1.0939865452103934, 'q3': 0.0602360873861424, 'q4': 148575611.971956, 'q5': 23413975160.090145}. Best is trial 2 with value: 7388672.133869476.\n",
      "[I 2024-05-17 15:24:46,036] Trial 4 finished with value: 10095866.905316982 and parameters: {'q1': 125.21401881798982, 'q2': 0.9420583362483858, 'q3': 9.891902111159766, 'q4': 475498876.20316595, 'q5': 9257966345.51315}. Best is trial 2 with value: 7388672.133869476.\n",
      "[I 2024-05-17 15:25:46,347] Trial 5 finished with value: 11399278.279365575 and parameters: {'q1': 498.46870982681315, 'q2': 0.03482666426077468, 'q3': 376.68008755222365, 'q4': 128697878.59605876, 'q5': 424141794745.36304}. Best is trial 2 with value: 7388672.133869476.\n",
      "[I 2024-05-17 15:26:45,122] Trial 6 finished with value: 9238814.638239713 and parameters: {'q1': 136.56923814708531, 'q2': 1.252230417497839, 'q3': 3.1410897065480037, 'q4': 811381424.0189708, 'q5': 25327811301.94171}. Best is trial 2 with value: 7388672.133869476.\n",
      "[I 2024-05-17 15:27:38,213] Trial 7 finished with value: 10167539.89573262 and parameters: {'q1': 300.93303163013337, 'q2': 0.0379403831923353, 'q3': 22.974752206788573, 'q4': 259538673.464905, 'q5': 635149705893.825}. Best is trial 2 with value: 7388672.133869476.\n",
      "[I 2024-05-17 15:28:27,066] Trial 8 finished with value: 9739070.519499542 and parameters: {'q1': 3.3633357368204515, 'q2': 0.5718245374621005, 'q3': 56.76645638053097, 'q4': 307349350.3815174, 'q5': 9239990028.459915}. Best is trial 2 with value: 7388672.133869476.\n",
      "[I 2024-05-17 15:29:15,953] Trial 9 finished with value: 11014774.014489552 and parameters: {'q1': 45.062980420473615, 'q2': 0.026485129578075847, 'q3': 621.9919619673395, 'q4': 136496143.5790746, 'q5': 241202585162.47318}. Best is trial 2 with value: 7388672.133869476.\n"
     ]
    },
    {
     "name": "stdout",
     "output_type": "stream",
     "text": [
      "Best trial:\n",
      "Value: 7388672.133869476\n",
      "Params: {'q1': 0.010470127959734342, 'q2': 0.9391975061601794, 'q3': 314.18458153758917, 'q4': 276443579.9087478, 'q5': 757193805382.4327}\n"
     ]
    }
   ],
   "source": [
    "# Create a study object\n",
    "study = optuna.create_study(direction='minimize')\n",
    "\n",
    "# Optimize the objective function\n",
    "study.optimize(objective, n_trials=10)\n",
    "\n",
    "# Print the best trial and its parameters\n",
    "print('Best trial:')\n",
    "trial = study.best_trial\n",
    "print(f'Value: {trial.value}')\n",
    "print(f'Params: {trial.params}')"
   ]
  }
 ],
 "metadata": {
  "kernelspec": {
   "display_name": "CasadiML",
   "language": "python",
   "name": "python3"
  },
  "language_info": {
   "codemirror_mode": {
    "name": "ipython",
    "version": 3
   },
   "file_extension": ".py",
   "mimetype": "text/x-python",
   "name": "python",
   "nbconvert_exporter": "python",
   "pygments_lexer": "ipython3",
   "version": "3.11.5"
  }
 },
 "nbformat": 4,
 "nbformat_minor": 2
}
