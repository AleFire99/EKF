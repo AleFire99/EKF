{
 "cells": [
  {
   "cell_type": "code",
   "execution_count": 1,
   "metadata": {},
   "outputs": [],
   "source": [
    "import numpy as np\n",
    "import sympy as sp\n",
    "import pandas as pd\n",
    "import matplotlib.pyplot as plt\n",
    "from EKF import ExtendedKalmanFilter"
   ]
  },
  {
   "cell_type": "markdown",
   "metadata": {},
   "source": [
    "# Symbols definition"
   ]
  },
  {
   "cell_type": "code",
   "execution_count": 2,
   "metadata": {},
   "outputs": [],
   "source": [
    "#States\n",
    "Tz, Tw, Tt, beta, Uwall = sp.symbols('Tz Tw Tt beta Uwall')\n",
    "\n",
    "#Inputs\n",
    "Cf, Tz_ref, Te = sp.symbols('Cf Tz_ref Te')\n",
    "\n",
    "#Parameters\n",
    "Cz, Uwin, alpha, Cwall, mw, cw, Pmax, sigma, COP, T_shift, Np = sp.symbols('Cz Uwin alpha Cwall mw cw Pmax sigma COP T_shift Np')"
   ]
  },
  {
   "cell_type": "markdown",
   "metadata": {},
   "source": [
    "# Equations definition"
   ]
  },
  {
   "cell_type": "code",
   "execution_count": 3,
   "metadata": {},
   "outputs": [],
   "source": [
    "# Define the state equations, output equations, state symbols, input symbols, and parameters\n",
    "\n",
    "beta_nl = beta/(1+sp.exp(-sigma*(Tz_ref-Tz-T_shift)))\n",
    "\n",
    "state_equations = [Tz +1/Cz*(Uwall*(Tw-Tz)+Uwin*(Te-Tz)+alpha*Np+beta_nl*(Tt-Tz)),\n",
    "                    Tw+1/Cwall*(Uwall*(Te-Tw)+Uwall*(Tz-Tw)),\n",
    "                    Tt+1/(mw*cw)*(Pmax*COP*Cf + beta_nl*(Tz-Tt)),\n",
    "                    beta,\n",
    "                    Uwall\n",
    "                    ]\n",
    "\n",
    "output_equation = [Tz,\n",
    "                   Tt\n",
    "                   ]\n",
    "\n",
    "state_symbols = [Tz, Tw, Tt, beta, Uwall]\n",
    "input_symbols = [Cf, Tz_ref, Te]\n",
    "\n",
    "params_dict = { \"Cz\" : 6.2608e8,\n",
    "                \"Uwin\" : 1.1362e5,\n",
    "                \"alpha\" : 3.4024e3,\n",
    "                \"Cwall\" : 8.1597e9,\n",
    "                \"mw\" : 9.788e3,\n",
    "                \"cw\" : 4186,\n",
    "                \"Pmax\" : 8.58e6,\n",
    "                \"sigma\" : 2.2,\n",
    "                \"COP\" : 5.4,\n",
    "                \"T_shift\" : 0,\n",
    "                \"Np\" : 0\n",
    "                }  \n",
    "\n",
    "Q_k = np.diag([0.01232704273585308, 0.04636850373432094, 0.01227997718764724, 137465487.70116445,893436286806.1382]) # Process noise covariance\n",
    "R_k = np.diag([0.1, 0.1]) # Measurement noise covariance\n",
    "\n",
    "P_0 = np.diag([0.1, 0.1, 0.1, 1e5, 1e5])  # Initial state covariance estimate\n",
    "\n",
    "# Create an instance of the ExtendedKalmanFilter class\n",
    "ekf = ExtendedKalmanFilter(state_equations, output_equation, state_symbols, input_symbols, params_dict, Q_k, R_k, P_0)"
   ]
  },
  {
   "cell_type": "markdown",
   "metadata": {},
   "source": [
    "# Loading dataframe"
   ]
  },
  {
   "cell_type": "code",
   "execution_count": 4,
   "metadata": {},
   "outputs": [],
   "source": [
    "df = pd.read_csv('Data\\Data_expl_8.csv')\n",
    "\n",
    "Cf = df['Cf_0']\n",
    "Tz_ref_anti = df['Tz_ref_anti']\n",
    "Te = df['Te']\n",
    "Np = df['Np']\n",
    "Tz_mean = df['Tz_mean']\n",
    "Tt_mean = df['Tt_mean']\n",
    "Twall_mean = df['Twall_mean']\n",
    "beta_true = df['beta']\n",
    "Uwall_true = df['Uwall']\n",
    "\n",
    "\n",
    "# Initial guesses\n",
    "beta_init = 1e7\n",
    "Uwall_init = 6e5\n",
    "\n",
    "# Initial conditions\n",
    "y_k = np.array([Tz_mean, Tt_mean]).T\n",
    "u_k = np.array([Cf, Tz_ref_anti, Te]).T\n",
    "x_k_minus_1 = np.array([Tz_mean[0], Twall_mean[0], Tt_mean[0], beta_init, Uwall_init])"
   ]
  },
  {
   "cell_type": "markdown",
   "metadata": {},
   "source": [
    "# Loop"
   ]
  },
  {
   "cell_type": "code",
   "execution_count": 5,
   "metadata": {},
   "outputs": [],
   "source": [
    "# Number of time steps\n",
    "time_steps = len(df)\n",
    "\n",
    "x_k_tot = np.empty((time_steps, len(state_symbols)))\n",
    "\n",
    "# Iterate over time steps\n",
    "for k in range(time_steps):\n",
    "\n",
    "    x_k = ekf.ekf(x_k_minus_1, [u_k[k]], y_k[k])\n",
    "\n",
    "    # print(f\"Time step {k}:\")\n",
    "    # print(\"Updated state vector:\")\n",
    "    # print(x_k)\n",
    "\n",
    "    x_k_tot[k] = x_k[:]\n",
    "\n",
    "    x_k_minus_1 = x_k"
   ]
  },
  {
   "cell_type": "code",
   "execution_count": 6,
   "metadata": {},
   "outputs": [],
   "source": [
    "# fig, ax = plt.subplots()\n",
    "# #ax.plot(Tz_mean, label='Tz_mean')  \n",
    "# ax.plot(Twall_mean, label='Twall_mean')\n",
    "# #ax.plot(Tt_mean, label='Tt_mean')\n",
    "# ax.set_xlabel('T')\n",
    "# ax.set_ylabel('Temperature (C)')\n",
    "# ax.legend()\n",
    "\n",
    "# plt.show()"
   ]
  },
  {
   "cell_type": "code",
   "execution_count": 7,
   "metadata": {},
   "outputs": [],
   "source": [
    "#fig, ax = plt.subplots()\n",
    "##ax.plot(x_k_tot.T[0], label='Tz_mean')  \n",
    "#ax.plot(x_k_tot.T[1], label='Twall_mean')\n",
    "##ax.plot(x_k_tot.T[2], label='Tt_mean')\n",
    "#ax.set_xlabel('mins')\n",
    "#ax.set_ylabel('Temperature (C)')\n",
    "#ax.legend()"
   ]
  },
  {
   "cell_type": "markdown",
   "metadata": {},
   "source": [
    "# $U_{\\text{wall}}$ identification\n"
   ]
  },
  {
   "cell_type": "code",
   "execution_count": 8,
   "metadata": {},
   "outputs": [
    {
     "data": {
      "text/plain": [
       "<matplotlib.legend.Legend at 0x18ba6e80d90>"
      ]
     },
     "execution_count": 8,
     "metadata": {},
     "output_type": "execute_result"
    },
    {
     "data": {
      "image/png": "[encoded data removed]",
      "text/plain": [
       "<Figure size 640x480 with 1 Axes>"
      ]
     },
     "metadata": {},
     "output_type": "display_data"
    }
   ],
   "source": [
    "fig, ax = plt.subplots()\n",
    "ax.plot(x_k_tot.T[4], label='Uwall')\n",
    "ax.plot(Uwall_true, label='Uwall_true')\n",
    "ax.set_xlabel('mins')\n",
    "ax.set_ylabel('Uwall (C)')\n",
    "ax.legend()"
   ]
  },
  {
   "cell_type": "code",
   "execution_count": 9,
   "metadata": {},
   "outputs": [
    {
     "name": "stdout",
     "output_type": "stream",
     "text": [
      "U_wall_err = 58216.080730689195, U_wall_perc_err = 30.335094956328067 %\n"
     ]
    }
   ],
   "source": [
    "U_wall_err = x_k_tot.T[4][-50:].mean() - Uwall_true[0]\n",
    "U_wall_perc_err = U_wall_err / Uwall_true[0] * 100\n",
    "print(f\"U_wall_err = {U_wall_err}, U_wall_perc_err = {U_wall_perc_err} %\")"
   ]
  },
  {
   "cell_type": "markdown",
   "metadata": {},
   "source": [
    "# $\\beta$ identification"
   ]
  },
  {
   "cell_type": "code",
   "execution_count": 10,
   "metadata": {},
   "outputs": [
    {
     "data": {
      "text/plain": [
       "<matplotlib.legend.Legend at 0x18ba85eae50>"
      ]
     },
     "execution_count": 10,
     "metadata": {},
     "output_type": "execute_result"
    },
    {
     "data": {
      "image/png": "[encoded data removed]",
      "text/plain": [
       "<Figure size 640x480 with 1 Axes>"
      ]
     },
     "metadata": {},
     "output_type": "display_data"
    }
   ],
   "source": [
    "fig, ax = plt.subplots()\n",
    "ax.plot(x_k_tot.T[3], label='beta')\n",
    "ax.plot(beta_true, label='beta_true')\n",
    "ax.set_xlabel('mins')\n",
    "ax.set_ylabel('Beta')\n",
    "ax.legend()"
   ]
  },
  {
   "cell_type": "code",
   "execution_count": 11,
   "metadata": {},
   "outputs": [
    {
     "name": "stdout",
     "output_type": "stream",
     "text": [
      "beta_err = -19582.370968871168, beta_perc_err = -2.105903016396865 %\n"
     ]
    }
   ],
   "source": [
    "beta_err = x_k_tot.T[3][-50:].mean() - beta_true[0]\n",
    "beta_perc_err = beta_err / beta_true[0] * 100\n",
    "print(f\"beta_err = {beta_err}, beta_perc_err = {beta_perc_err} %\")"
   ]
  }
 ],
 "metadata": {
  "kernelspec": {
   "display_name": "CasADi",
   "language": "python",
   "name": "python3"
  },
  "language_info": {
   "codemirror_mode": {
    "name": "ipython",
    "version": 3
   },
   "file_extension": ".py",
   "mimetype": "text/x-python",
   "name": "python",
   "nbconvert_exporter": "python",
   "pygments_lexer": "ipython3",
   "version": "3.11.5"
  }
 },
 "nbformat": 4,
 "nbformat_minor": 2
}
