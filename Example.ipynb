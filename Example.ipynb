{
 "cells": [
  {
   "cell_type": "code",
   "execution_count": 1,
   "metadata": {},
   "outputs": [],
   "source": [
    "import numpy as np\n",
    "from EKF import ExtendedKalmanFilter"
   ]
  },
  {
   "cell_type": "markdown",
   "metadata": {},
   "source": [
    "# Equations definition"
   ]
  },
  {
   "cell_type": "code",
   "execution_count": 2,
   "metadata": {},
   "outputs": [],
   "source": [
    "# Define the state equations, output equations, state symbols, input symbols, and parameters\n",
    "state_equations = [\n",
    "    \"x1 + x2**2 + u\",\n",
    "    \"x1**2 + x2 + u**2\"\n",
    "]\n",
    "\n",
    "output_equation = [\"x1 + 2*x2\"]\n",
    "\n",
    "state_symbols = [\"x1\", \"x2\"]\n",
    "input_symbols = [\"u\"]\n",
    "\n",
    "params_dict = {}  # No parameters in this example\n",
    "\n",
    "Q_k = np.eye(2) * 0.01  # Process noise covariance\n",
    "R_k = np.eye(1) * 0.1  # Measurement noise covariance\n",
    "\n",
    "P_0 = np.eye(2)  # Initial state covariance estimate\n",
    "\n",
    "# Create an instance of the ExtendedKalmanFilter class\n",
    "ekf = ExtendedKalmanFilter(state_equations, output_equation, state_symbols, input_symbols, params_dict, Q_k, R_k, P_0)"
   ]
  },
  {
   "cell_type": "markdown",
   "metadata": {},
   "source": [
    "# EKF initialization"
   ]
  },
  {
   "cell_type": "code",
   "execution_count": 3,
   "metadata": {},
   "outputs": [],
   "source": [
    "# Initial conditions\n",
    "x_k_minus_1 = np.array([1.0, 2.0])\n",
    "\n",
    "u_k_minus_1 = np.random.rand(5)  # Input\n",
    "y_k = 5.0*np.ones(5)  # Sensor measurement"
   ]
  },
  {
   "cell_type": "markdown",
   "metadata": {},
   "source": [
    "# Loop"
   ]
  },
  {
   "cell_type": "code",
   "execution_count": 4,
   "metadata": {},
   "outputs": [
    {
     "name": "stdout",
     "output_type": "stream",
     "text": [
      "[1. 2.] [0.35423373486761645] 5.0\n",
      "Time step 0:\n",
      "Updated state vector:\n",
      "[2.22068083974829 1.39506039518122]\n",
      "[2.22068083974829 1.39506039518122] [0.5439658176882898] 5.0\n",
      "Time step 1:\n",
      "Updated state vector:\n",
      "[5.32964136225269 -0.161309537759049]\n",
      "[5.32964136225269 -0.161309537759049] [0.5556258208604897] 5.0\n",
      "Time step 2:\n",
      "Updated state vector:\n",
      "[2.77159107899468 1.14061413753938]\n",
      "[2.77159107899468 1.14061413753938] [0.6348800095972744] 5.0\n",
      "Time step 3:\n",
      "Updated state vector:\n",
      "[2.25994938059282 1.78535557669381]\n",
      "[2.25994938059282 1.78535557669381] [0.31268255860601] 5.0\n",
      "Time step 4:\n",
      "Updated state vector:\n",
      "[5.61185943968817 -0.194836684924900]\n"
     ]
    }
   ],
   "source": [
    "# Number of time steps\n",
    "time_steps = 5\n",
    "\n",
    "# Iterate over time steps\n",
    "for k in range(time_steps):\n",
    "    # Call the ekf method to perform the Extended Kalman Filter calculations\n",
    "\n",
    "    x_k = ekf.ekf(x_k_minus_1, [u_k_minus_1[k]], y_k[k])\n",
    "\n",
    "    print(f\"Time step {k}:\")\n",
    "    print(\"Updated state vector:\")\n",
    "    print(x_k)\n",
    "\n",
    "    # Update previous state and input for the next iteration\n",
    "    x_k_minus_1 = x_k"
   ]
  }
 ],
 "metadata": {
  "kernelspec": {
   "display_name": "CasADi",
   "language": "python",
   "name": "python3"
  },
  "language_info": {
   "codemirror_mode": {
    "name": "ipython",
    "version": 3
   },
   "file_extension": ".py",
   "mimetype": "text/x-python",
   "name": "python",
   "nbconvert_exporter": "python",
   "pygments_lexer": "ipython3",
   "version": "3.11.5"
  }
 },
 "nbformat": 4,
 "nbformat_minor": 2
}
