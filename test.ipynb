{
 "cells": [
  {
   "cell_type": "code",
   "execution_count": 1,
   "metadata": {},
   "outputs": [],
   "source": [
    "from EKF import ExtendedKalmanFilter"
   ]
  },
  {
   "cell_type": "code",
   "execution_count": 2,
   "metadata": {},
   "outputs": [
    {
     "name": "stdout",
     "output_type": "stream",
     "text": [
      "Time step 0:\n",
      "Updated state vector:\n",
      "[2.17914963205233 1.41614881439084]\n",
      "Time step 1:\n",
      "Updated state vector:\n",
      "[2.23622220737598 1.38733115832040]\n",
      "Time step 2:\n",
      "Updated state vector:\n",
      "[2.26789986417833 1.37163773773940]\n",
      "Time step 3:\n",
      "Updated state vector:\n",
      "[2.29547843924791 1.35800652547991]\n",
      "Time step 4:\n",
      "Updated state vector:\n",
      "[2.31850544092249 1.34666266179903]\n"
     ]
    }
   ],
   "source": [
    "import numpy as np\n",
    "\n",
    "# Define the state equations, output equations, state symbols, input symbols, and parameters\n",
    "state_equations = [\n",
    "    \"x1 + x2**2 + u\",\n",
    "    \"x1**2 + x2 + u**2\"\n",
    "]\n",
    "\n",
    "output_equation = [\"x1 + 2*x2\"]\n",
    "\n",
    "state_symbols = [\"x1\", \"x2\"]\n",
    "input_symbols = [\"u\"]\n",
    "\n",
    "params_dict = {}  # No parameters in this example\n",
    "\n",
    "# Create an instance of the ExtendedKalmanFilter class\n",
    "ekf = ExtendedKalmanFilter(state_equations, output_equation, state_symbols, input_symbols, params_dict)\n",
    "\n",
    "# Number of time steps\n",
    "time_steps = 5\n",
    "\n",
    "# Initial conditions\n",
    "x_k_minus_1 = np.array([1.0, 2.0])\n",
    "u_k_minus_1 = np.array([0.5])\n",
    "y_k = 5.0*np.ones(time_steps)  # Sensor measurement\n",
    "P_k_minus_1 = np.eye(2)  # Initial state covariance estimate\n",
    "Q_k = np.eye(2) * 0.01  # Process noise covariance\n",
    "R_k = np.eye(1) * 0.1  # Measurement noise covariance\n",
    "\n",
    "# Iterate over time steps\n",
    "for k in range(time_steps):\n",
    "    # Call the ekf method to perform the Extended Kalman Filter calculations\n",
    "    x_k, P_k = ekf.ekf(x_k_minus_1, u_k_minus_1, y_k[k], P_k_minus_1, Q_k, R_k)\n",
    "\n",
    "    print(f\"Time step {k}:\")\n",
    "    print(\"Updated state vector:\")\n",
    "    print(x_k)\n",
    "\n",
    "    # Update previous state and input for the next iteration\n",
    "    x_k_minus_1 = x_k\n",
    "    u_k_minus_1 = np.array([u_k_minus_1[0] + 0.1])  # Increment input by 0.1 at each time step"
   ]
  }
 ],
 "metadata": {
  "kernelspec": {
   "display_name": "CasADi",
   "language": "python",
   "name": "python3"
  },
  "language_info": {
   "codemirror_mode": {
    "name": "ipython",
    "version": 3
   },
   "file_extension": ".py",
   "mimetype": "text/x-python",
   "name": "python",
   "nbconvert_exporter": "python",
   "pygments_lexer": "ipython3",
   "version": "3.11.7"
  }
 },
 "nbformat": 4,
 "nbformat_minor": 2
}
